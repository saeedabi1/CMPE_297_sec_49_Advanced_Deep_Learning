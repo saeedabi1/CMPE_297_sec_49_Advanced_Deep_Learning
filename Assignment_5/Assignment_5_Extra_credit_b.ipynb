{
  "nbformat": 4,
  "nbformat_minor": 0,
  "metadata": {
    "colab": {
      "name": "Assignment 5 Extra credit_b.ipynb",
      "provenance": [],
      "collapsed_sections": []
    },
    "kernelspec": {
      "display_name": "Python 3",
      "language": "python",
      "name": "python3"
    },
    "language_info": {
      "codemirror_mode": {
        "name": "ipython",
        "version": 3
      },
      "file_extension": ".py",
      "mimetype": "text/x-python",
      "name": "python",
      "nbconvert_exporter": "python",
      "pygments_lexer": "ipython3",
      "version": "3.7.0"
    },
    "accelerator": "GPU"
  },
  "cells": [
    {
      "cell_type": "markdown",
      "metadata": {
        "id": "fZkmlUzt25cA"
      },
      "source": [
        "# **Text classification with pretrained word embeddings (GLOve)**\n",
        "\n",
        " \n",
        "\n",
        "In this example, you will show how to train a text classification model that uses pre-trained word embeddings."
      ]
    },
    {
      "cell_type": "markdown",
      "metadata": {
        "id": "iOksc0Ui25cE"
      },
      "source": [
        "## Importing the libraries and setting up"
      ]
    },
    {
      "cell_type": "code",
      "metadata": {
        "id": "DbDJoaGW25cF"
      },
      "source": [
        "import numpy as np\n",
        "import tensorflow as tf\n",
        "from tensorflow import keras"
      ],
      "execution_count": 1,
      "outputs": []
    },
    {
      "cell_type": "markdown",
      "metadata": {
        "id": "OG1xbLxq25cF"
      },
      "source": [
        "## Downloading the Newsgroup20 data"
      ]
    },
    {
      "cell_type": "code",
      "metadata": {
        "id": "6OmfJBGx25cG"
      },
      "source": [
        "data_path = keras.utils.get_file(\n",
        "    \"news20.tar.gz\",\n",
        "    \"http://www.cs.cmu.edu/afs/cs.cmu.edu/project/theo-20/www/data/news20.tar.gz\",\n",
        "    untar=True,\n",
        ")"
      ],
      "execution_count": 2,
      "outputs": []
    },
    {
      "cell_type": "markdown",
      "metadata": {
        "id": "v9DyYJRU25cG"
      },
      "source": [
        "## The data information"
      ]
    },
    {
      "cell_type": "code",
      "metadata": {
        "id": "gqry_yWI25cG",
        "colab": {
          "base_uri": "https://localhost:8080/"
        },
        "outputId": "6af09177-ccfd-4257-d84d-5df483b83f01"
      },
      "source": [
        "import os\n",
        "import pathlib\n",
        "\n",
        "data_dir = pathlib.Path(data_path).parent / \"20_newsgroup\"\n",
        "dirnames = os.listdir(data_dir)\n",
        "print(\"Number of directories:\", len(dirnames))\n",
        "print(\"Directory names:\", dirnames)\n",
        "\n",
        "fnames = os.listdir(data_dir / \"comp.graphics\")\n",
        "print(\"Number of files in comp.graphics:\", len(fnames))\n",
        "print(\"Some example filenames:\", fnames[:5])"
      ],
      "execution_count": 3,
      "outputs": [
        {
          "output_type": "stream",
          "text": [
            "Number of directories: 20\n",
            "Directory names: ['rec.autos', 'talk.politics.misc', 'talk.politics.mideast', 'sci.med', 'comp.sys.mac.hardware', 'talk.religion.misc', 'alt.atheism', 'comp.sys.ibm.pc.hardware', 'sci.crypt', 'misc.forsale', 'comp.windows.x', 'rec.sport.hockey', 'sci.space', 'rec.motorcycles', 'talk.politics.guns', 'sci.electronics', 'soc.religion.christian', 'comp.graphics', 'comp.os.ms-windows.misc', 'rec.sport.baseball']\n",
            "Number of files in comp.graphics: 1000\n",
            "Some example filenames: ['38388', '39045', '38847', '38512', '38333']\n"
          ],
          "name": "stdout"
        }
      ]
    },
    {
      "cell_type": "markdown",
      "metadata": {
        "id": "EQ-nUNF925cG"
      },
      "source": [
        "An example of what one file contains:"
      ]
    },
    {
      "cell_type": "code",
      "metadata": {
        "id": "izRMkUOa25cG",
        "colab": {
          "base_uri": "https://localhost:8080/"
        },
        "outputId": "6b153e79-0ed9-4ad8-d843-5326f85b7e8f"
      },
      "source": [
        "print(open(data_dir / \"comp.graphics\" / \"38987\").read())"
      ],
      "execution_count": 4,
      "outputs": [
        {
          "output_type": "stream",
          "text": [
            "Newsgroups: comp.graphics\n",
            "Path: cantaloupe.srv.cs.cmu.edu!das-news.harvard.edu!noc.near.net!howland.reston.ans.net!agate!dog.ee.lbl.gov!network.ucsd.edu!usc!rpi!nason110.its.rpi.edu!mabusj\n",
            "From: mabusj@nason110.its.rpi.edu (Jasen M. Mabus)\n",
            "Subject: Looking for Brain in CAD\n",
            "Message-ID: <c285m+p@rpi.edu>\n",
            "Nntp-Posting-Host: nason110.its.rpi.edu\n",
            "Reply-To: mabusj@rpi.edu\n",
            "Organization: Rensselaer Polytechnic Institute, Troy, NY.\n",
            "Date: Thu, 29 Apr 1993 23:27:20 GMT\n",
            "Lines: 7\n",
            "\n",
            "Jasen Mabus\n",
            "RPI student\n",
            "\n",
            "\tI am looking for a hman brain in any CAD (.dxf,.cad,.iges,.cgm,etc.) or picture (.gif,.jpg,.ras,etc.) format for an animation demonstration. If any has or knows of a location please reply by e-mail to mabusj@rpi.edu.\n",
            "\n",
            "Thank you in advance,\n",
            "Jasen Mabus  \n",
            "\n"
          ],
          "name": "stdout"
        }
      ]
    },
    {
      "cell_type": "code",
      "metadata": {
        "id": "qqeveYdE25cH",
        "colab": {
          "base_uri": "https://localhost:8080/"
        },
        "outputId": "e558a5d5-170b-467b-f07b-9d97c8c3439d"
      },
      "source": [
        "samples = []\n",
        "labels = []\n",
        "class_names = []\n",
        "class_index = 0\n",
        "for dirname in sorted(os.listdir(data_dir)):\n",
        "    class_names.append(dirname)\n",
        "    dirpath = data_dir / dirname\n",
        "    fnames = os.listdir(dirpath)\n",
        "    print(\"Processing %s, %d files found\" % (dirname, len(fnames)))\n",
        "    for fname in fnames:\n",
        "        fpath = dirpath / fname\n",
        "        f = open(fpath, encoding=\"latin-1\")\n",
        "        content = f.read()\n",
        "        lines = content.split(\"\\n\")\n",
        "        lines = lines[10:]\n",
        "        content = \"\\n\".join(lines)\n",
        "        samples.append(content)\n",
        "        labels.append(class_index)\n",
        "    class_index += 1\n",
        "\n",
        "print(\"Classes:\", class_names)\n",
        "print(\"Number of samples:\", len(samples))"
      ],
      "execution_count": 5,
      "outputs": [
        {
          "output_type": "stream",
          "text": [
            "Processing alt.atheism, 1000 files found\n",
            "Processing comp.graphics, 1000 files found\n",
            "Processing comp.os.ms-windows.misc, 1000 files found\n",
            "Processing comp.sys.ibm.pc.hardware, 1000 files found\n",
            "Processing comp.sys.mac.hardware, 1000 files found\n",
            "Processing comp.windows.x, 1000 files found\n",
            "Processing misc.forsale, 1000 files found\n",
            "Processing rec.autos, 1000 files found\n",
            "Processing rec.motorcycles, 1000 files found\n",
            "Processing rec.sport.baseball, 1000 files found\n",
            "Processing rec.sport.hockey, 1000 files found\n",
            "Processing sci.crypt, 1000 files found\n",
            "Processing sci.electronics, 1000 files found\n",
            "Processing sci.med, 1000 files found\n",
            "Processing sci.space, 1000 files found\n",
            "Processing soc.religion.christian, 997 files found\n",
            "Processing talk.politics.guns, 1000 files found\n",
            "Processing talk.politics.mideast, 1000 files found\n",
            "Processing talk.politics.misc, 1000 files found\n",
            "Processing talk.religion.misc, 1000 files found\n",
            "Classes: ['alt.atheism', 'comp.graphics', 'comp.os.ms-windows.misc', 'comp.sys.ibm.pc.hardware', 'comp.sys.mac.hardware', 'comp.windows.x', 'misc.forsale', 'rec.autos', 'rec.motorcycles', 'rec.sport.baseball', 'rec.sport.hockey', 'sci.crypt', 'sci.electronics', 'sci.med', 'sci.space', 'soc.religion.christian', 'talk.politics.guns', 'talk.politics.mideast', 'talk.politics.misc', 'talk.religion.misc']\n",
            "Number of samples: 19997\n"
          ],
          "name": "stdout"
        }
      ]
    },
    {
      "cell_type": "markdown",
      "metadata": {
        "id": "azyEdRog25cH"
      },
      "source": [
        "**Because of crashing the code, I had to use just 15000 for samples and labels.**"
      ]
    },
    {
      "cell_type": "code",
      "metadata": {
        "colab": {
          "base_uri": "https://localhost:8080/"
        },
        "id": "NJawWG8tw6VL",
        "outputId": "56f537c6-6a38-45d4-cab5-145b455bfc0f"
      },
      "source": [
        "print(len(samples))\n",
        "samples = samples[:15000]"
      ],
      "execution_count": 6,
      "outputs": [
        {
          "output_type": "stream",
          "text": [
            "19997\n"
          ],
          "name": "stdout"
        }
      ]
    },
    {
      "cell_type": "code",
      "metadata": {
        "colab": {
          "base_uri": "https://localhost:8080/"
        },
        "id": "8rclGSmaxyUZ",
        "outputId": "ec24a105-9e8c-4de5-a4fc-d60f5d701eda"
      },
      "source": [
        "print(len(labels))\n",
        "labels = labels[:15000]"
      ],
      "execution_count": 7,
      "outputs": [
        {
          "output_type": "stream",
          "text": [
            "19997\n"
          ],
          "name": "stdout"
        }
      ]
    },
    {
      "cell_type": "markdown",
      "metadata": {
        "id": "rlQMokjp25cH"
      },
      "source": [
        "## Shuffle and split the data into training & validation sets"
      ]
    },
    {
      "cell_type": "code",
      "metadata": {
        "id": "L5bDGbtn25cH"
      },
      "source": [
        "# Shuffle the data\n",
        "seed = 1337\n",
        "rng = np.random.RandomState(seed)\n",
        "rng.shuffle(samples)\n",
        "rng = np.random.RandomState(seed)\n",
        "rng.shuffle(labels)\n",
        "\n",
        "# Extract a training & validation split\n",
        "validation_split = 0.2\n",
        "num_validation_samples = int(validation_split * len(samples))\n",
        "train_samples = samples[:-num_validation_samples]\n",
        "val_samples = samples[-num_validation_samples:]\n",
        "train_labels = labels[:-num_validation_samples]\n",
        "val_labels = labels[-num_validation_samples:]"
      ],
      "execution_count": 8,
      "outputs": []
    },
    {
      "cell_type": "code",
      "metadata": {
        "colab": {
          "base_uri": "https://localhost:8080/"
        },
        "id": "KDVJpJbNxIk9",
        "outputId": "4e9e349f-3000-4c75-a00e-f73c4e5c64ee"
      },
      "source": [
        "\n",
        "print(num_validation_samples)\n",
        "print(len(train_samples))\n",
        "print(len(val_samples))\n",
        "print(len(train_labels))\n",
        "print(len(val_labels))"
      ],
      "execution_count": 9,
      "outputs": [
        {
          "output_type": "stream",
          "text": [
            "3000\n",
            "12000\n",
            "3000\n",
            "12000\n",
            "3000\n"
          ],
          "name": "stdout"
        }
      ]
    },
    {
      "cell_type": "markdown",
      "metadata": {
        "id": "yDOjqrIM25cI"
      },
      "source": [
        "## Create a vocabulary index by using the TextVectorization "
      ]
    },
    {
      "cell_type": "code",
      "metadata": {
        "id": "gCBAanzn25cI"
      },
      "source": [
        "from tensorflow.keras.layers.experimental.preprocessing import TextVectorization\n",
        "\n",
        "vectorizer = TextVectorization(max_tokens=20000, output_sequence_length=200)\n",
        "text_ds = tf.data.Dataset.from_tensor_slices(train_samples).batch(128)\n",
        "vectorizer.adapt(text_ds)"
      ],
      "execution_count": 10,
      "outputs": []
    },
    {
      "cell_type": "code",
      "metadata": {
        "id": "j22pnhVP25cI",
        "colab": {
          "base_uri": "https://localhost:8080/"
        },
        "outputId": "49f1be90-cde4-4d2d-9f84-a35597ef5c2e"
      },
      "source": [
        "vectorizer.get_vocabulary()[:5]"
      ],
      "execution_count": 11,
      "outputs": [
        {
          "output_type": "execute_result",
          "data": {
            "text/plain": [
              "['', '[UNK]', 'the', 'to', 'a']"
            ]
          },
          "metadata": {
            "tags": []
          },
          "execution_count": 11
        }
      ]
    },
    {
      "cell_type": "code",
      "metadata": {
        "id": "L2EP9VPS25cI",
        "colab": {
          "base_uri": "https://localhost:8080/"
        },
        "outputId": "0f518691-7ff4-4b98-c7c0-93fb26df886b"
      },
      "source": [
        "output = vectorizer([[\"the cat sat on the mat\"]])\n",
        "output.numpy()[0, :6]"
      ],
      "execution_count": 12,
      "outputs": [
        {
          "output_type": "execute_result",
          "data": {
            "text/plain": [
              "array([    2,  2778,  1642,    14,     2, 10297])"
            ]
          },
          "metadata": {
            "tags": []
          },
          "execution_count": 12
        }
      ]
    },
    {
      "cell_type": "code",
      "metadata": {
        "id": "pcdr1D1K25cJ"
      },
      "source": [
        "voc = vectorizer.get_vocabulary()\n",
        "word_index = dict(zip(voc, range(len(voc))))"
      ],
      "execution_count": 13,
      "outputs": []
    },
    {
      "cell_type": "code",
      "metadata": {
        "id": "gTI4lIeE25cJ",
        "colab": {
          "base_uri": "https://localhost:8080/"
        },
        "outputId": "dd15271d-0ffb-414c-feb5-33dbc4428939"
      },
      "source": [
        "test = [\"the\", \"cat\", \"sat\", \"on\", \"the\", \"mat\"]\n",
        "[word_index[w] for w in test]"
      ],
      "execution_count": 14,
      "outputs": [
        {
          "output_type": "execute_result",
          "data": {
            "text/plain": [
              "[2, 2778, 1642, 14, 2, 10297]"
            ]
          },
          "metadata": {
            "tags": []
          },
          "execution_count": 14
        }
      ]
    },
    {
      "cell_type": "markdown",
      "metadata": {
        "id": "ccczgdsT25cJ"
      },
      "source": [
        "## Downloading pre-trained GloVe embeddings (a 822M zip file)\n",
        "I tried to just upload one file in this set and upload it in the dirve, because of lack of space"
      ]
    },
    {
      "cell_type": "code",
      "metadata": {
        "id": "whFJ-0k33nYY"
      },
      "source": [
        "#!wget http://nlp.stanford.edu/data/glove.6B.zip"
      ],
      "execution_count": 15,
      "outputs": []
    },
    {
      "cell_type": "code",
      "metadata": {
        "id": "Og-bgmQR3o1y"
      },
      "source": [
        "#!unzip -q glove.6B.zip"
      ],
      "execution_count": 16,
      "outputs": []
    },
    {
      "cell_type": "markdown",
      "metadata": {
        "id": "dsnnJqSH7_zn"
      },
      "source": [
        "## Importing glove.6B.100d.txt file"
      ]
    },
    {
      "cell_type": "code",
      "metadata": {
        "id": "pZaQMH7SEGuB"
      },
      "source": [
        "# Import PyDrive and associated libraries.\n",
        "# This only needs to be done once per notebook.\n",
        "from pydrive.auth import GoogleAuth\n",
        "from pydrive.drive import GoogleDrive\n",
        "from google.colab import auth\n",
        "from oauth2client.client import GoogleCredentials\n",
        "\n",
        "# Authenticate and create the PyDrive client.\n",
        "# This only needs to be done once per notebook.\n",
        "auth.authenticate_user()\n",
        "gauth = GoogleAuth()\n",
        "gauth.credentials = GoogleCredentials.get_application_default()\n",
        "drive = GoogleDrive(gauth)\n",
        "\n",
        "# Download a file based on its file ID.\n",
        "#\n",
        "# A file ID looks like: laggVyWshwcyP6kEI-y_W3P8D26sz\n",
        "file_id = '11TGu1qTAubTcwCVEInQup7mFD_xdHjud'\n",
        "downloaded = drive.CreateFile({'id': file_id})\n",
        "#print('Downloaded content \"{}\"'.format(downloaded.GetContentString()))\n",
        "downloaded.GetContentFile('glove.6B.100d.txt')\n",
        "\n"
      ],
      "execution_count": 17,
      "outputs": []
    },
    {
      "cell_type": "code",
      "metadata": {
        "id": "3djR-42025cK",
        "colab": {
          "base_uri": "https://localhost:8080/"
        },
        "outputId": "f9235179-9374-44e8-cf04-fe6e284b8c03"
      },
      "source": [
        "# path_to_glove_file = os.path.join(\n",
        "#     os.path.expanduser(\"/\"), \"content/glove.6B.100d.txt\"\n",
        "    \n",
        "# )\n",
        "path_to_glove_file = \"/content/glove.6B.100d.txt\"\n",
        "\n",
        "\n",
        "embeddings_index = {}\n",
        "with open(path_to_glove_file) as f:\n",
        "    for line in f:\n",
        "        word, coefs = line.split(maxsplit=1)\n",
        "        coefs = np.fromstring(coefs, \"f\", sep=\" \")\n",
        "        embeddings_index[word] = coefs\n",
        "\n",
        "print(\"Found %s word vectors.\" % len(embeddings_index))"
      ],
      "execution_count": 18,
      "outputs": [
        {
          "output_type": "stream",
          "text": [
            "Found 400000 word vectors.\n"
          ],
          "name": "stdout"
        }
      ]
    },
    {
      "cell_type": "code",
      "metadata": {
        "id": "9B8OTGqz25cK",
        "colab": {
          "base_uri": "https://localhost:8080/"
        },
        "outputId": "51352cc2-c8d5-4b4a-912a-281d852c3222"
      },
      "source": [
        "num_tokens = len(voc) + 2\n",
        "embedding_dim = 100\n",
        "hits = 0\n",
        "misses = 0\n",
        "\n",
        "# Prepare embedding matrix\n",
        "embedding_matrix = np.zeros((num_tokens, embedding_dim))\n",
        "for word, i in word_index.items():\n",
        "    embedding_vector = embeddings_index.get(word)\n",
        "    if embedding_vector is not None:\n",
        "        # Words not found in embedding index will be all-zeros.\n",
        "        # This includes the representation for \"padding\" and \"OOV\"\n",
        "        embedding_matrix[i] = embedding_vector\n",
        "        hits += 1\n",
        "    else:\n",
        "        misses += 1\n",
        "print(\"Converted %d words (%d misses)\" % (hits, misses))\n"
      ],
      "execution_count": 19,
      "outputs": [
        {
          "output_type": "stream",
          "text": [
            "Converted 17328 words (2672 misses)\n"
          ],
          "name": "stdout"
        }
      ]
    },
    {
      "cell_type": "code",
      "metadata": {
        "id": "wIBwKJeythyv"
      },
      "source": [
        "#voc"
      ],
      "execution_count": 20,
      "outputs": []
    },
    {
      "cell_type": "code",
      "metadata": {
        "colab": {
          "base_uri": "https://localhost:8080/"
        },
        "id": "OxWWv--GtcmW",
        "outputId": "3247429e-2bbd-4482-8edf-ffe16f9a8ba3"
      },
      "source": [
        "num_tokens"
      ],
      "execution_count": 21,
      "outputs": [
        {
          "output_type": "execute_result",
          "data": {
            "text/plain": [
              "20002"
            ]
          },
          "metadata": {
            "tags": []
          },
          "execution_count": 21
        }
      ]
    },
    {
      "cell_type": "code",
      "metadata": {
        "colab": {
          "base_uri": "https://localhost:8080/"
        },
        "id": "r3odWL_2tbKV",
        "outputId": "2fa86a08-4e0d-4c6c-e767-3920001c76f9"
      },
      "source": [
        "embedding_dim"
      ],
      "execution_count": 22,
      "outputs": [
        {
          "output_type": "execute_result",
          "data": {
            "text/plain": [
              "100"
            ]
          },
          "metadata": {
            "tags": []
          },
          "execution_count": 22
        }
      ]
    },
    {
      "cell_type": "code",
      "metadata": {
        "id": "vma4rofK25cK"
      },
      "source": [
        "from tensorflow.keras.layers import Embedding\n",
        "\n",
        "embedding_layer = Embedding(\n",
        "    num_tokens,\n",
        "    embedding_dim,\n",
        "    embeddings_initializer=keras.initializers.Constant(embedding_matrix),\n",
        "    trainable=False,\n",
        ")"
      ],
      "execution_count": 23,
      "outputs": []
    },
    {
      "cell_type": "markdown",
      "metadata": {
        "id": "ybqWYyCq25cL"
      },
      "source": [
        "## Building the model\n"
      ]
    },
    {
      "cell_type": "code",
      "metadata": {
        "id": "z3iXkrCK25cL",
        "colab": {
          "base_uri": "https://localhost:8080/"
        },
        "outputId": "9abb6574-bb32-4041-aef7-fd01a640a546"
      },
      "source": [
        "from tensorflow.keras import layers\n",
        "\n",
        "int_sequences_input = keras.Input(shape=(None,), dtype=\"int64\")\n",
        "embedded_sequences = embedding_layer(int_sequences_input)\n",
        "x = layers.Conv1D(128, 5, activation=\"relu\")(embedded_sequences)\n",
        "x = layers.MaxPooling1D(5)(x)\n",
        "x = layers.Conv1D(128, 5, activation=\"relu\")(x)\n",
        "x = layers.MaxPooling1D(5)(x)\n",
        "x = layers.Conv1D(128, 5, activation=\"relu\")(x)\n",
        "x = layers.GlobalMaxPooling1D()(x)\n",
        "x = layers.Dense(128, activation=\"relu\")(x)\n",
        "x = layers.Dropout(0.5)(x)\n",
        "preds = layers.Dense(len(class_names), activation=\"softmax\")(x)\n",
        "model = keras.Model(int_sequences_input, preds)\n",
        "model.summary()"
      ],
      "execution_count": 24,
      "outputs": [
        {
          "output_type": "stream",
          "text": [
            "Model: \"functional_1\"\n",
            "_________________________________________________________________\n",
            "Layer (type)                 Output Shape              Param #   \n",
            "=================================================================\n",
            "input_1 (InputLayer)         [(None, None)]            0         \n",
            "_________________________________________________________________\n",
            "embedding (Embedding)        (None, None, 100)         2000200   \n",
            "_________________________________________________________________\n",
            "conv1d (Conv1D)              (None, None, 128)         64128     \n",
            "_________________________________________________________________\n",
            "max_pooling1d (MaxPooling1D) (None, None, 128)         0         \n",
            "_________________________________________________________________\n",
            "conv1d_1 (Conv1D)            (None, None, 128)         82048     \n",
            "_________________________________________________________________\n",
            "max_pooling1d_1 (MaxPooling1 (None, None, 128)         0         \n",
            "_________________________________________________________________\n",
            "conv1d_2 (Conv1D)            (None, None, 128)         82048     \n",
            "_________________________________________________________________\n",
            "global_max_pooling1d (Global (None, 128)               0         \n",
            "_________________________________________________________________\n",
            "dense (Dense)                (None, 128)               16512     \n",
            "_________________________________________________________________\n",
            "dropout (Dropout)            (None, 128)               0         \n",
            "_________________________________________________________________\n",
            "dense_1 (Dense)              (None, 20)                2580      \n",
            "=================================================================\n",
            "Total params: 2,247,516\n",
            "Trainable params: 247,316\n",
            "Non-trainable params: 2,000,200\n",
            "_________________________________________________________________\n"
          ],
          "name": "stdout"
        }
      ]
    },
    {
      "cell_type": "code",
      "metadata": {
        "colab": {
          "base_uri": "https://localhost:8080/"
        },
        "id": "9PFyHl0-tzN1",
        "outputId": "cd9bfdd7-74a4-42f1-b055-a362e864bd2c"
      },
      "source": [
        "len(train_samples)"
      ],
      "execution_count": 25,
      "outputs": [
        {
          "output_type": "execute_result",
          "data": {
            "text/plain": [
              "12000"
            ]
          },
          "metadata": {
            "tags": []
          },
          "execution_count": 25
        }
      ]
    },
    {
      "cell_type": "code",
      "metadata": {
        "id": "hFdyqTVJt438"
      },
      "source": [
        "#train_samples = train_samples[:1000]"
      ],
      "execution_count": 26,
      "outputs": []
    },
    {
      "cell_type": "code",
      "metadata": {
        "colab": {
          "base_uri": "https://localhost:8080/"
        },
        "id": "75jwM6RhuVMs",
        "outputId": "7697bf2b-c9f4-4e2c-93f0-c80a3eb40daf"
      },
      "source": [
        "len(train_labels)"
      ],
      "execution_count": 27,
      "outputs": [
        {
          "output_type": "execute_result",
          "data": {
            "text/plain": [
              "12000"
            ]
          },
          "metadata": {
            "tags": []
          },
          "execution_count": 27
        }
      ]
    },
    {
      "cell_type": "code",
      "metadata": {
        "id": "l7ZNEyS9uayn"
      },
      "source": [
        "#train_labels = train_labels[:1000]"
      ],
      "execution_count": 28,
      "outputs": []
    },
    {
      "cell_type": "code",
      "metadata": {
        "colab": {
          "base_uri": "https://localhost:8080/"
        },
        "id": "MvDb1c_euk06",
        "outputId": "62b14072-5b41-4b90-929d-7c9b09677fe7"
      },
      "source": [
        "len(val_labels)"
      ],
      "execution_count": 29,
      "outputs": [
        {
          "output_type": "execute_result",
          "data": {
            "text/plain": [
              "3000"
            ]
          },
          "metadata": {
            "tags": []
          },
          "execution_count": 29
        }
      ]
    },
    {
      "cell_type": "code",
      "metadata": {
        "id": "7_3jkFjmwE62"
      },
      "source": [
        "#val_labels = val_labels[:250]"
      ],
      "execution_count": 30,
      "outputs": []
    },
    {
      "cell_type": "markdown",
      "metadata": {
        "id": "sVPKWVL925cL"
      },
      "source": [
        "# **Train the model**\n"
      ]
    },
    {
      "cell_type": "code",
      "metadata": {
        "id": "wFG_TMfx25cL"
      },
      "source": [
        "x_train = vectorizer(np.array([[s] for s in train_samples])).numpy()"
      ],
      "execution_count": 31,
      "outputs": []
    },
    {
      "cell_type": "code",
      "metadata": {
        "id": "ZF3Jl8q3Pbos"
      },
      "source": [
        "x_val = vectorizer(np.array([[s] for s in val_samples])).numpy()"
      ],
      "execution_count": 32,
      "outputs": []
    },
    {
      "cell_type": "code",
      "metadata": {
        "id": "p8eOxcHDPYAz"
      },
      "source": [
        "y_train = np.array(train_labels)\n",
        "y_val = np.array(val_labels)"
      ],
      "execution_count": 33,
      "outputs": []
    },
    {
      "cell_type": "code",
      "metadata": {
        "colab": {
          "base_uri": "https://localhost:8080/"
        },
        "id": "CTVIDQNzutvt",
        "outputId": "637e8a00-3f0c-49f7-c556-b85de5376ce4"
      },
      "source": [
        "print(len(y_train))\n",
        "print(len(y_val))"
      ],
      "execution_count": 34,
      "outputs": [
        {
          "output_type": "stream",
          "text": [
            "12000\n",
            "3000\n"
          ],
          "name": "stdout"
        }
      ]
    },
    {
      "cell_type": "markdown",
      "metadata": {
        "id": "57O4dWyL25cL"
      },
      "source": [
        "We use categorical crossentropy as our loss since we're doing softmax classification.\n",
        "Moreover, we use `sparse_categorical_crossentropy` since our labels are integers."
      ]
    },
    {
      "cell_type": "code",
      "metadata": {
        "id": "v4WVmNYm25cL",
        "colab": {
          "base_uri": "https://localhost:8080/"
        },
        "outputId": "9fea92c4-398e-4a6f-a5eb-499a633e4969"
      },
      "source": [
        "model.compile(\n",
        "    loss=\"sparse_categorical_crossentropy\", optimizer=\"rmsprop\", metrics=[\"acc\"]\n",
        ")\n",
        "model.fit(x_train, y_train, batch_size=128, epochs=20, validation_data=(x_val, y_val))"
      ],
      "execution_count": 35,
      "outputs": [
        {
          "output_type": "stream",
          "text": [
            "Epoch 1/20\n",
            "94/94 [==============================] - 1s 13ms/step - loss: 2.5578 - acc: 0.1557 - val_loss: 2.0329 - val_acc: 0.3297\n",
            "Epoch 2/20\n",
            "94/94 [==============================] - 1s 9ms/step - loss: 1.8700 - acc: 0.3381 - val_loss: 1.4259 - val_acc: 0.5130\n",
            "Epoch 3/20\n",
            "94/94 [==============================] - 1s 9ms/step - loss: 1.4033 - acc: 0.5205 - val_loss: 1.4934 - val_acc: 0.4860\n",
            "Epoch 4/20\n",
            "94/94 [==============================] - 1s 9ms/step - loss: 1.1544 - acc: 0.6075 - val_loss: 1.0719 - val_acc: 0.6170\n",
            "Epoch 5/20\n",
            "94/94 [==============================] - 1s 9ms/step - loss: 0.9755 - acc: 0.6671 - val_loss: 0.9795 - val_acc: 0.6737\n",
            "Epoch 6/20\n",
            "94/94 [==============================] - 1s 9ms/step - loss: 0.8500 - acc: 0.7102 - val_loss: 0.9020 - val_acc: 0.6973\n",
            "Epoch 7/20\n",
            "94/94 [==============================] - 1s 9ms/step - loss: 0.7353 - acc: 0.7496 - val_loss: 0.9152 - val_acc: 0.6993\n",
            "Epoch 8/20\n",
            "94/94 [==============================] - 1s 9ms/step - loss: 0.6410 - acc: 0.7846 - val_loss: 0.9602 - val_acc: 0.7103\n",
            "Epoch 9/20\n",
            "94/94 [==============================] - 1s 9ms/step - loss: 0.5416 - acc: 0.8146 - val_loss: 0.9806 - val_acc: 0.7050\n",
            "Epoch 10/20\n",
            "94/94 [==============================] - 1s 9ms/step - loss: 0.4708 - acc: 0.8429 - val_loss: 1.1489 - val_acc: 0.6800\n",
            "Epoch 11/20\n",
            "94/94 [==============================] - 1s 9ms/step - loss: 0.3995 - acc: 0.8652 - val_loss: 0.8994 - val_acc: 0.7507\n",
            "Epoch 12/20\n",
            "94/94 [==============================] - 1s 9ms/step - loss: 0.3455 - acc: 0.8879 - val_loss: 0.9307 - val_acc: 0.7577\n",
            "Epoch 13/20\n",
            "94/94 [==============================] - 1s 9ms/step - loss: 0.2962 - acc: 0.9082 - val_loss: 0.9199 - val_acc: 0.7690\n",
            "Epoch 14/20\n",
            "94/94 [==============================] - 1s 10ms/step - loss: 0.2290 - acc: 0.9267 - val_loss: 1.4522 - val_acc: 0.6997\n",
            "Epoch 15/20\n",
            "94/94 [==============================] - 1s 9ms/step - loss: 0.2055 - acc: 0.9397 - val_loss: 1.1308 - val_acc: 0.7580\n",
            "Epoch 16/20\n",
            "94/94 [==============================] - 1s 9ms/step - loss: 0.1847 - acc: 0.9494 - val_loss: 1.3068 - val_acc: 0.7120\n",
            "Epoch 17/20\n",
            "94/94 [==============================] - 1s 9ms/step - loss: 0.1435 - acc: 0.9577 - val_loss: 1.1249 - val_acc: 0.7740\n",
            "Epoch 18/20\n",
            "94/94 [==============================] - 1s 9ms/step - loss: 0.1641 - acc: 0.9589 - val_loss: 1.1973 - val_acc: 0.7767\n",
            "Epoch 19/20\n",
            "94/94 [==============================] - 1s 9ms/step - loss: 0.1342 - acc: 0.9656 - val_loss: 1.1566 - val_acc: 0.7730\n",
            "Epoch 20/20\n",
            "94/94 [==============================] - 1s 9ms/step - loss: 0.1253 - acc: 0.9680 - val_loss: 1.1483 - val_acc: 0.7717\n"
          ],
          "name": "stdout"
        },
        {
          "output_type": "execute_result",
          "data": {
            "text/plain": [
              "<tensorflow.python.keras.callbacks.History at 0x7fa28dca3780>"
            ]
          },
          "metadata": {
            "tags": []
          },
          "execution_count": 35
        }
      ]
    },
    {
      "cell_type": "markdown",
      "metadata": {
        "id": "JpnEqE5P25cM"
      },
      "source": [
        "## Exporting an end-to-end model\n"
      ]
    },
    {
      "cell_type": "code",
      "metadata": {
        "id": "ulAUih0325cM",
        "colab": {
          "base_uri": "https://localhost:8080/",
          "height": 35
        },
        "outputId": "32c9898d-8ace-441e-9757-9c8be42dd69a"
      },
      "source": [
        "string_input = keras.Input(shape=(1,), dtype=\"string\")\n",
        "x = vectorizer(string_input)\n",
        "preds = model(x)\n",
        "end_to_end_model = keras.Model(string_input, preds)\n",
        "\n",
        "probabilities = end_to_end_model.predict(\n",
        "    [[\"this message is about computer graphics and 3D modeling\"]]\n",
        ")\n",
        "\n",
        "class_names[np.argmax(probabilities[0])]"
      ],
      "execution_count": 36,
      "outputs": [
        {
          "output_type": "execute_result",
          "data": {
            "application/vnd.google.colaboratory.intrinsic+json": {
              "type": "string"
            },
            "text/plain": [
              "'comp.graphics'"
            ]
          },
          "metadata": {
            "tags": []
          },
          "execution_count": 36
        }
      ]
    },
    {
      "cell_type": "code",
      "metadata": {
        "colab": {
          "base_uri": "https://localhost:8080/"
        },
        "id": "iv7d-KYB8UlB",
        "outputId": "e1a95ef9-1004-4d15-e47e-4ee3f9648b62"
      },
      "source": [
        "class_names"
      ],
      "execution_count": 37,
      "outputs": [
        {
          "output_type": "execute_result",
          "data": {
            "text/plain": [
              "['alt.atheism',\n",
              " 'comp.graphics',\n",
              " 'comp.os.ms-windows.misc',\n",
              " 'comp.sys.ibm.pc.hardware',\n",
              " 'comp.sys.mac.hardware',\n",
              " 'comp.windows.x',\n",
              " 'misc.forsale',\n",
              " 'rec.autos',\n",
              " 'rec.motorcycles',\n",
              " 'rec.sport.baseball',\n",
              " 'rec.sport.hockey',\n",
              " 'sci.crypt',\n",
              " 'sci.electronics',\n",
              " 'sci.med',\n",
              " 'sci.space',\n",
              " 'soc.religion.christian',\n",
              " 'talk.politics.guns',\n",
              " 'talk.politics.mideast',\n",
              " 'talk.politics.misc',\n",
              " 'talk.religion.misc']"
            ]
          },
          "metadata": {
            "tags": []
          },
          "execution_count": 37
        }
      ]
    },
    {
      "cell_type": "code",
      "metadata": {
        "colab": {
          "base_uri": "https://localhost:8080/"
        },
        "id": "tP4zvqvZ8X2z",
        "outputId": "0c11fcd0-2512-4520-9f79-1bb8fa37d6f8"
      },
      "source": [
        "probabilities"
      ],
      "execution_count": 38,
      "outputs": [
        {
          "output_type": "execute_result",
          "data": {
            "text/plain": [
              "array([[2.0399250e-11, 9.9998605e-01, 4.2076911e-07, 9.6021795e-09,\n",
              "        5.6871363e-10, 1.2978877e-05, 1.9878927e-09, 1.2809371e-12,\n",
              "        3.0314376e-11, 1.6657487e-14, 8.8235166e-12, 1.3958975e-11,\n",
              "        2.8750358e-09, 3.3864575e-07, 1.5065353e-07, 1.3916048e-29,\n",
              "        5.5010014e-31, 2.1156786e-30, 5.3371487e-30, 8.1624312e-30]],\n",
              "      dtype=float32)"
            ]
          },
          "metadata": {
            "tags": []
          },
          "execution_count": 38
        }
      ]
    }
  ]
}